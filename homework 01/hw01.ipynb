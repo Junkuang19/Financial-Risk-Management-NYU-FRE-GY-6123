{
 "cells": [
  {
   "cell_type": "markdown",
   "id": "c9408e71",
   "metadata": {},
   "source": [
    "# Professor Adams - Financial Risk Management (FRE 6123) \n",
    "# Homework #1"
   ]
  },
  {
   "cell_type": "markdown",
   "id": "689df7ff",
   "metadata": {},
   "source": [
    "### README\n",
    "- Part 1: Setup, libraries, helper functions.\n",
    "- Part 2:\n",
    "- Q1: Annualized returns; arithmetic vs geometric means; std; R/σ; leverage comparison.\n",
    "- Q2: Archegos case mapped to Stulz’s risk-management failures.\n",
    "- Q3: Continuously compounded monthly returns; population stats; covariance/correlation.\n",
    "- Q4: SPY 2019–2020 daily log-returns; annualized Sharpe/Sortino; 1-day HS VaR.\n",
    "- Q5: Bond portfolio duration/convexity; impacts under steepening; curvature-tilted portfolio."
   ]
  },
  {
   "cell_type": "markdown",
   "id": "f345c729",
   "metadata": {},
   "source": [
    "---\n",
    "---"
   ]
  },
  {
   "cell_type": "markdown",
   "id": "dd97b7cc",
   "metadata": {},
   "source": [
    "### Part 1 Set up Environment"
   ]
  },
  {
   "cell_type": "code",
   "execution_count": null,
   "id": "f198f4c0",
   "metadata": {},
   "outputs": [],
   "source": [
    "# import libraries\n",
    "import numpy as np\n",
    "import pandas as pd\n",
    "import yfinance as yf\n",
    "from typing import Any"
   ]
  },
  {
   "cell_type": "code",
   "execution_count": null,
   "id": "b6ffc97d",
   "metadata": {},
   "outputs": [],
   "source": [
    "# Define helper functions for reusable purposes \n",
    "# Spreadsheet functions will be displayed below\n",
    "\n",
    "# Varying period length (c periods per year):\n",
    "def var_annual(rates, periods_per_year):\n",
    "    # Unwrap one level if a single nested list is passed, e.g., [Madsden]\n",
    "    if isinstance(rates, (list, tuple, np.ndarray)) and len(rates) == 1 and isinstance(rates[0], (list, tuple, np.ndarray)):\n",
    "        rates = rates[0]\n",
    "\n",
    "    arr = np.asarray(rates, dtype=float)\n",
    "    if arr.ndim == 0:\n",
    "        arr = np.asarray([arr], dtype=float)\n",
    "\n",
    "    # Auto-detect percent inputs (>1 or <-1): treat as percent, convert to decimal\n",
    "    arr = np.where(np.abs(arr) > 1.0, arr / 100.0, arr)\n",
    "\n",
    "    annualized = (1.0 + arr) ** periods_per_year - 1.0\n",
    "    return [f\"{float(x) * 100.0:.2f}%\" for x in np.ravel(annualized)]\n",
    "    \n",
    "# Geometric Mean\n",
    "def geo_mean(values, as_percent=True, decimals=2):\n",
    "    nums = []\n",
    "    for v in values:\n",
    "        if isinstance(v, str):\n",
    "            v = v.strip()\n",
    "            if v.endswith('%'):\n",
    "                v = float(v[:-1]) / 100.0\n",
    "            else:\n",
    "                v = float(v)\n",
    "                if abs(v) > 1: v = v / 100.0\n",
    "        else:\n",
    "            v = float(v)\n",
    "            if abs(v) > 1: v = v / 100.0\n",
    "        nums.append(v)\n",
    "    a = np.asarray(nums, dtype=float)\n",
    "    if a.size == 0: return 'nan%' if as_percent else float('nan')\n",
    "    if (a <= -1.0).any(): raise ValueError(\"Exists <= -100%, geometric mean is undefined\")\n",
    "    g = float(np.prod(1.0 + a)**(1.0/a.size) - 1.0)\n",
    "    return f\"{g*100:.{decimals}f}%\" if as_percent else g\n",
    "\n",
    "\n",
    "# Arithmetic Mean\n",
    "def arith_mean(values, as_percent=True, decimals=2):\n",
    "    nums = []\n",
    "    for v in values:\n",
    "        if isinstance(v, str):\n",
    "            s = v.strip()\n",
    "            if s.endswith('%'):\n",
    "                val = float(s[:-1]) / 100.0\n",
    "            else:\n",
    "                val = float(s)\n",
    "                if abs(val) > 1.0:  # interpret as percent if magnitude > 1\n",
    "                    val /= 100.0\n",
    "        else:\n",
    "            val = float(v)\n",
    "            if abs(val) > 1.0:      # interpret as percent if magnitude > 1\n",
    "                val /= 100.0\n",
    "        nums.append(val)\n",
    "\n",
    "    a = np.asarray(nums, dtype=float)\n",
    "    if a.size == 0:\n",
    "        return 'nan%' if as_percent else float('nan')\n",
    "\n",
    "    m = float(np.mean(a))\n",
    "    return f\"{m * 100:.{decimals}f}%\" if as_percent else round(m, decimals)\n",
    "\n",
    "# Leverage\n",
    "def lever(r, rB=0.05):\n",
    "    def to_decimal(x):\n",
    "        if isinstance(x, str):\n",
    "            s = x.strip()\n",
    "            if s.endswith('%'): return float(s[:-1]) / 100.0\n",
    "            v = float(s); return v/100.0 if abs(v) > 1.0 else v\n",
    "        v = float(x); return v/100.0 if abs(v) > 1.0 else v\n",
    "    return [f\"{(2*to_decimal(x) - rB)*100:.2f}%\" for x in r]\n",
    "\n",
    "# Automatic Calculation of sample means & Standard Deviation & R/σ ratio for Question 1\n",
    "def q1_metrics(df):\n",
    "    df_num = df.replace('%','',regex=True).apply(pd.to_numeric, errors='coerce')/100\n",
    "    R = df_num.mean()\n",
    "    G = (1+df_num).prod()**(1/df_num.shape[0]) - 1\n",
    "    S = df_num.std(ddof=1)\n",
    "    return pd.DataFrame({'Arithmetic_Mean':R,'Geometric_Mean':G,'Sigma':S,'R/σ ratio':R/S})\n",
    "\n",
    "# Sortino function\n",
    "def sortino(series, mar=0.0):\n",
    "    import numpy as np, pandas as pd\n",
    "    s = pd.Series(series).astype(str)\n",
    "    s = pd.to_numeric(s.str.rstrip('%'), errors='coerce')\n",
    "    if s.abs().max() > 1: s = s/100.0  \n",
    "    if isinstance(mar, str) and mar.strip().endswith('%'):\n",
    "        mar = float(mar.strip()[:-1])/100.0\n",
    "    elif abs(float(mar)) > 1: mar = float(mar)/100.0\n",
    "    r = s.to_numpy(dtype=float)\n",
    "    mean_r = r.mean()\n",
    "    downside = np.minimum(0.0, r - mar)\n",
    "    dd = float(np.sqrt(np.mean(downside**2)))\n",
    "    srt = (mean_r - mar)/dd if dd > 0 else np.nan\n",
    "    return mean_r, dd, srt\n",
    "\n",
    "# Question 4 helper functions\n",
    "def fetch_adjclose(ticker, start, end):\n",
    "    df = yf.download(ticker, start=start, end=end, progress=False, auto_adjust=False)\n",
    "    return df.rename(columns={'Adj Close':'AdjClose'})['AdjClose'].dropna()\n",
    "\n",
    "def log_returns(prices: pd.Series) -> pd.Series:\n",
    "    # r_t = ln(P_t / P_{t-1})\n",
    "    return np.log(prices / prices.shift(1)).dropna()\n",
    "\n",
    "def sharpe_ann(r_log: pd.Series, rf_daily=RF_DAILY, td=T_DAYS) -> float:\n",
    "    mu = r_log.mean()\n",
    "    sd = r_log.std(ddof=1)\n",
    "    return ((mu - rf_daily) / sd) * np.sqrt(td)\n",
    "\n",
    "def sortino_ann(r_log: pd.Series, mar=RF_DAILY, td=T_DAYS) -> float:\n",
    "    mu = r_log.mean()\n",
    "    downside = np.minimum(0.0, r_log - mar)\n",
    "    dd = np.sqrt(np.mean(downside**2))        # population downside deviation\n",
    "    return ((mu - mar) / dd) * np.sqrt(td)\n",
    "\n",
    "def var_hs_1d(r_simple: pd.Series, alpha=0.95) -> float:\n",
    "    # HS VaR at 95%: positive loss threshold per $1\n",
    "    return float(-np.quantile(r_simple.dropna(), 1 - alpha)) "
   ]
  },
  {
   "cell_type": "markdown",
   "id": "77ec27b8",
   "metadata": {},
   "source": [
    "---\n",
    "---"
   ]
  },
  {
   "cell_type": "markdown",
   "id": "033316a1",
   "metadata": {},
   "source": [
    "### Part 2 Answers"
   ]
  },
  {
   "cell_type": "markdown",
   "id": "e058f829",
   "metadata": {},
   "source": [
    "#### Question 1 \n",
    "#### a.  "
   ]
  },
  {
   "cell_type": "code",
   "execution_count": 134,
   "id": "4d75d5fe",
   "metadata": {},
   "outputs": [
    {
     "data": {
      "text/html": [
       "<div>\n",
       "<style scoped>\n",
       "    .dataframe tbody tr th:only-of-type {\n",
       "        vertical-align: middle;\n",
       "    }\n",
       "\n",
       "    .dataframe tbody tr th {\n",
       "        vertical-align: top;\n",
       "    }\n",
       "\n",
       "    .dataframe thead th {\n",
       "        text-align: right;\n",
       "    }\n",
       "</style>\n",
       "<table border=\"1\" class=\"dataframe\">\n",
       "  <thead>\n",
       "    <tr style=\"text-align: right;\">\n",
       "      <th>Inverstment Annual Returns</th>\n",
       "      <th>Madsden</th>\n",
       "      <th>Quaker</th>\n",
       "      <th>Aldrige</th>\n",
       "    </tr>\n",
       "  </thead>\n",
       "  <tbody>\n",
       "    <tr>\n",
       "      <th>Year 1</th>\n",
       "      <td>15.39%</td>\n",
       "      <td>11.46%</td>\n",
       "      <td>-15.00%</td>\n",
       "    </tr>\n",
       "    <tr>\n",
       "      <th>Year 2</th>\n",
       "      <td>34.49%</td>\n",
       "      <td>13.43%</td>\n",
       "      <td>40.00%</td>\n",
       "    </tr>\n",
       "    <tr>\n",
       "      <th>Year 3</th>\n",
       "      <td>-16.59%</td>\n",
       "      <td>-4.33%</td>\n",
       "      <td>2.50%</td>\n",
       "    </tr>\n",
       "  </tbody>\n",
       "</table>\n",
       "</div>"
      ],
      "text/plain": [
       "Inverstment Annual Returns  Madsden  Quaker  Aldrige\n",
       "Year 1                       15.39%  11.46%  -15.00%\n",
       "Year 2                       34.49%  13.43%   40.00%\n",
       "Year 3                      -16.59%  -4.33%    2.50%"
      ]
     },
     "execution_count": 134,
     "metadata": {},
     "output_type": "execute_result"
    }
   ],
   "source": [
    "Madsden = [ 1.2, 2.5, -1.50]\n",
    "Quaker = [ 2.75, 3.2, -1.10]\n",
    "Aldrige = [ -15, 40, 2.5] \n",
    "\n",
    "# varying period length (c periods per year):\n",
    "Madsden_annual = var_annual([Madsden],12)\n",
    "Quaker_annual = var_annual([Quaker],4)\n",
    "Aldrige_annual = var_annual([Aldrige],1)\n",
    "\n",
    "# quick check\n",
    "df_q1a = pd.DataFrame({ 'Madsden': Madsden_annual, \n",
    "                        'Quaker': Quaker_annual,\n",
    "                        'Aldrige': Aldrige_annual\n",
    "                    })\n",
    "df_q1a.columns.name = 'Inverstment Annual Returns'\n",
    "df_q1a.index = ['Year 1', 'Year 2', 'Year 3']\n",
    "df_q1a"
   ]
  },
  {
   "cell_type": "code",
   "execution_count": 135,
   "id": "fed837ec",
   "metadata": {},
   "outputs": [
    {
     "data": {
      "text/html": [
       "<div>\n",
       "<style scoped>\n",
       "    .dataframe tbody tr th:only-of-type {\n",
       "        vertical-align: middle;\n",
       "    }\n",
       "\n",
       "    .dataframe tbody tr th {\n",
       "        vertical-align: top;\n",
       "    }\n",
       "\n",
       "    .dataframe thead th {\n",
       "        text-align: right;\n",
       "    }\n",
       "</style>\n",
       "<table border=\"1\" class=\"dataframe\">\n",
       "  <thead>\n",
       "    <tr style=\"text-align: right;\">\n",
       "      <th></th>\n",
       "      <th>Madsden_geo</th>\n",
       "      <th>Quaker_geo</th>\n",
       "      <th>Aldrige_geo</th>\n",
       "      <th>Madsden_arith</th>\n",
       "      <th>Quaker_arith</th>\n",
       "      <th>Aldrige_arith</th>\n",
       "    </tr>\n",
       "  </thead>\n",
       "  <tbody>\n",
       "    <tr>\n",
       "      <th>Mean</th>\n",
       "      <td>8.98%</td>\n",
       "      <td>6.55%</td>\n",
       "      <td>6.85%</td>\n",
       "      <td>11.10%</td>\n",
       "      <td>6.85%</td>\n",
       "      <td>9.17%</td>\n",
       "    </tr>\n",
       "  </tbody>\n",
       "</table>\n",
       "</div>"
      ],
      "text/plain": [
       "     Madsden_geo Quaker_geo Aldrige_geo Madsden_arith Quaker_arith  \\\n",
       "Mean       8.98%      6.55%       6.85%        11.10%        6.85%   \n",
       "\n",
       "     Aldrige_arith  \n",
       "Mean         9.17%  "
      ]
     },
     "execution_count": 135,
     "metadata": {},
     "output_type": "execute_result"
    }
   ],
   "source": [
    "# Arithmetic versus Geometric Mean\n",
    "Madsden_geo = geo_mean(Madsden_annual)\n",
    "Quaker_geo = geo_mean(Quaker_annual)\n",
    "Aldrige_geo = geo_mean(Aldrige_annual)\n",
    "Madsden_arith = arith_mean(Madsden_annual)\n",
    "Quaker_arith = arith_mean(Quaker_annual)\n",
    "Aldrige_arith = arith_mean(Aldrige_annual)\n",
    "\n",
    "# quick check\n",
    "df_q1a_mean = pd.DataFrame([{\n",
    "    'Madsden_geo': Madsden_geo,\n",
    "    'Quaker_geo': Quaker_geo,\n",
    "    'Aldrige_geo': Aldrige_geo,\n",
    "    'Madsden_arith': Madsden_arith,\n",
    "    'Quaker_arith': Quaker_arith,\n",
    "    'Aldrige_arith': Aldrige_arith\n",
    "}])\n",
    "df_q1a_mean.index = ['Mean']\n",
    "df_q1a_mean\n"
   ]
  },
  {
   "cell_type": "code",
   "execution_count": 136,
   "id": "6446a5c5",
   "metadata": {},
   "outputs": [
    {
     "name": "stdout",
     "output_type": "stream",
     "text": [
      "The highest Arithmetic Mean: Madsden_arith 11.10%\n",
      "The highest Geometric Mean: Madsden_geo 8.98%\n"
     ]
    }
   ],
   "source": [
    "# print the highest Arithmetic & Geometric Mean\n",
    "print(\"The highest Arithmetic Mean: \" + \"Madsden_arith\" +\" \" + str(Madsden_arith))\n",
    "print(\"The highest Geometric Mean: \" + \"Madsden_geo\" +\" \" + str(Madsden_geo))"
   ]
  },
  {
   "cell_type": "markdown",
   "id": "130609a6",
   "metadata": {},
   "source": [
    "#### Arithmetic vs Geometric Mean (Why They Differ)\n",
    "- **Definition**: Arithmetic \\(a=\\frac{1}{n}\\sum r_t\\); Geometric \\(g=\\left(\\prod (1+r_t)\\right)^{1/n}-1\\).\n",
    "- **Compounding vs. averaging**: Geometric mean captures multi-period compounding; arithmetic is a simple per-period average.\n",
    "- **Volatility drag**: More volatility lowers \\(g\\). Approximation (small returns): \\(g \\approx a - \\frac{1}{2}\\sigma^2\\).\n",
    "- **Negative-return asymmetry**: A −50% drop needs +100% to break even—reflected in \\(g\\), not in \\(a\\).\n",
    "- **Use cases**: Use arithmetic for single-period expectations; geometric for long-run growth. Align frequencies (e.g., annualize) before comparing."
   ]
  },
  {
   "cell_type": "markdown",
   "id": "1e5917af",
   "metadata": {},
   "source": [
    "---"
   ]
  },
  {
   "cell_type": "markdown",
   "id": "67498997",
   "metadata": {},
   "source": [
    "#### Question 1 \n",
    "#### b."
   ]
  },
  {
   "cell_type": "code",
   "execution_count": 137,
   "id": "8cb51e31",
   "metadata": {},
   "outputs": [
    {
     "data": {
      "text/html": [
       "<div>\n",
       "<style scoped>\n",
       "    .dataframe tbody tr th:only-of-type {\n",
       "        vertical-align: middle;\n",
       "    }\n",
       "\n",
       "    .dataframe tbody tr th {\n",
       "        vertical-align: top;\n",
       "    }\n",
       "\n",
       "    .dataframe thead th {\n",
       "        text-align: right;\n",
       "    }\n",
       "</style>\n",
       "<table border=\"1\" class=\"dataframe\">\n",
       "  <thead>\n",
       "    <tr style=\"text-align: right;\">\n",
       "      <th></th>\n",
       "      <th>Madsden_std</th>\n",
       "      <th>Quaker_std</th>\n",
       "      <th>Aldrige_std</th>\n",
       "    </tr>\n",
       "  </thead>\n",
       "  <tbody>\n",
       "    <tr>\n",
       "      <th>Standard Deviation</th>\n",
       "      <td>0.258092</td>\n",
       "      <td>0.097350</td>\n",
       "      <td>0.280995</td>\n",
       "    </tr>\n",
       "  </tbody>\n",
       "</table>\n",
       "</div>"
      ],
      "text/plain": [
       "                    Madsden_std  Quaker_std  Aldrige_std\n",
       "Standard Deviation     0.258092    0.097350     0.280995"
      ]
     },
     "execution_count": 137,
     "metadata": {},
     "output_type": "execute_result"
    }
   ],
   "source": [
    "# Standard deviation \n",
    "Madsden_annual_std = np.std(np.array([float(x.strip('%')) for x in Madsden_annual])/100.0, ddof=1)\n",
    "Quaker_annual_std = np.std(np.array([float(x.strip('%')) for x in Quaker_annual])/100.0, ddof=1)\n",
    "Aldrige_annual_std = np.std(np.array([float(x.strip('%')) for x in Aldrige_annual])/100.0, ddof=1)\n",
    "\n",
    "# Quick check\n",
    "df_q1b_std = pd.DataFrame ([{\n",
    "    'Madsden_std': Madsden_annual_std,\n",
    "    'Quaker_std': Quaker_annual_std,\n",
    "    'Aldrige_std': Aldrige_annual_std\n",
    "}])\n",
    "df_q1b_std.index = ['Standard Deviation']\n",
    "df_q1b_std"
   ]
  },
  {
   "cell_type": "markdown",
   "id": "c84389d3",
   "metadata": {},
   "source": [
    "+ Note：Higher std ⇒ higher risk: Typically indicates more uncertainty and larger swings in performance."
   ]
  },
  {
   "cell_type": "code",
   "execution_count": 138,
   "id": "404ea203",
   "metadata": {},
   "outputs": [
    {
     "data": {
      "text/html": [
       "<div>\n",
       "<style scoped>\n",
       "    .dataframe tbody tr th:only-of-type {\n",
       "        vertical-align: middle;\n",
       "    }\n",
       "\n",
       "    .dataframe tbody tr th {\n",
       "        vertical-align: top;\n",
       "    }\n",
       "\n",
       "    .dataframe thead th {\n",
       "        text-align: right;\n",
       "    }\n",
       "</style>\n",
       "<table border=\"1\" class=\"dataframe\">\n",
       "  <thead>\n",
       "    <tr style=\"text-align: right;\">\n",
       "      <th></th>\n",
       "      <th>Investment</th>\n",
       "      <th>Ranking</th>\n",
       "    </tr>\n",
       "  </thead>\n",
       "  <tbody>\n",
       "    <tr>\n",
       "      <th>highest risk</th>\n",
       "      <td>Aldrige</td>\n",
       "      <td>0.280995</td>\n",
       "    </tr>\n",
       "    <tr>\n",
       "      <th>medium risk</th>\n",
       "      <td>Madsden</td>\n",
       "      <td>0.258092</td>\n",
       "    </tr>\n",
       "    <tr>\n",
       "      <th>lowest risk</th>\n",
       "      <td>Quaker</td>\n",
       "      <td>0.097350</td>\n",
       "    </tr>\n",
       "  </tbody>\n",
       "</table>\n",
       "</div>"
      ],
      "text/plain": [
       "             Investment  Ranking\n",
       "highest risk    Aldrige 0.280995\n",
       "medium risk     Madsden 0.258092\n",
       "lowest risk      Quaker 0.097350"
      ]
     },
     "execution_count": 138,
     "metadata": {},
     "output_type": "execute_result"
    }
   ],
   "source": [
    "# ranking\n",
    "df_q1b_ranks = pd.DataFrame(\n",
    "    {'Investment': ['Aldrige','Madsden','Quaker'],\n",
    "     'Ranking': [Aldrige_annual_std, Madsden_annual_std, Quaker_annual_std]},\n",
    "    index=['highest risk','medium risk','lowest risk']\n",
    ")\n",
    "df_q1b_ranks"
   ]
  },
  {
   "cell_type": "markdown",
   "id": "80eadd7c",
   "metadata": {},
   "source": [
    "---"
   ]
  },
  {
   "cell_type": "markdown",
   "id": "53507645",
   "metadata": {},
   "source": [
    "#### Question 1 \n",
    "#### c."
   ]
  },
  {
   "cell_type": "code",
   "execution_count": 139,
   "id": "7253de18",
   "metadata": {},
   "outputs": [
    {
     "name": "stdout",
     "output_type": "stream",
     "text": [
      "                           arithmetic_mean sample_std_dev R/σ_Ratio\n",
      "Inverstment Annual Returns                                         \n",
      "Madsden                             11.10%         25.81%    42.99%\n",
      "Quaker                               6.85%          9.74%    70.40%\n",
      "Aldrige                              9.17%         28.10%    32.62%\n",
      "\n",
      "Ranking (best to worst) by R/σ_Ratio: Quaker > Madsden > Aldrige\n"
     ]
    }
   ],
   "source": [
    "# Calculates R/sigma ratio\n",
    "\n",
    "df_q1c = df_q1a.replace('%', '', regex=True).apply(pd.to_numeric, errors='coerce') / 100\n",
    "R = df_q1c.mean() # arithmetic average annual return\n",
    "sigma_σ = df_q1c.std(ddof=1) # sample std dev = sigma\n",
    "ratio = R / sigma_σ\n",
    "\n",
    "q1c_summary = pd.DataFrame({\n",
    "    \"arithmetic_mean\": R,\n",
    "    \"sample_std_dev\":sigma_σ,\n",
    "    \"R/σ_Ratio\": ratio\n",
    "}).round(6)\n",
    "\n",
    "ranking = ratio.sort_values(ascending=False).index.tolist()\n",
    "\n",
    "print(q1c_summary.map('{:.2%}'.format).to_string())\n",
    "print()\n",
    "print(\"Ranking (best to worst) by R/σ_Ratio:\", \" > \".join(ranking))"
   ]
  },
  {
   "cell_type": "markdown",
   "id": "5191f66d",
   "metadata": {},
   "source": [
    "---"
   ]
  },
  {
   "cell_type": "markdown",
   "id": "f176a4f8",
   "metadata": {},
   "source": [
    "#### Question 1 \n",
    "#### d."
   ]
  },
  {
   "cell_type": "code",
   "execution_count": 140,
   "id": "353895de",
   "metadata": {},
   "outputs": [
    {
     "name": "stdout",
     "output_type": "stream",
     "text": [
      "                           arithmetic_mean sample_std_dev R/σ_Ratio\n",
      "Inverstment Annual Returns                                         \n",
      "Madsden                             11.10%         25.81%    42.99%\n",
      "Quaker                               6.85%          9.74%    70.40%\n",
      "Aldrige                              9.17%         28.10%    32.62%\n",
      "\n",
      "\n",
      "Levered metrics (50% borrowed @5%):\n",
      "           Arithmetic_Mean Geometric_Mean   Sigma R/σ ratio\n",
      "Madsden_L           17.19%          8.44%  51.62%    33.31%\n",
      "Quaker_L             8.71%          7.45%  19.47%    44.72%\n",
      "Aldridge_L          13.33%          4.39%  56.20%    23.73%\n",
      "\n",
      "Ranking by R/σ (unlevered): Quaker > Madsden > Aldrige\n",
      "Ranking by R/σ (levered): Quaker_L > Madsden_L > Aldridge_L\n"
     ]
    }
   ],
   "source": [
    "# caculate the levered versus unlevered R/σ ratio\n",
    "rB = 0.05 # borrowed interest rate\n",
    "L  = 1.0 # Vb/Ve = 1\n",
    "\n",
    "lev_df = pd.DataFrame({\n",
    "    \"Madsden_L\":  lever(Madsden_annual),\n",
    "    \"Quaker_L\":   lever(Quaker_annual),\n",
    "    \"Aldridge_L\": lever(Aldrige_annual),\n",
    "})\n",
    "\n",
    "lev_metrics = q1_metrics(lev_df).round(6)\n",
    "ranking_unlev = q1_metrics(lev_df).round(6).sort_values(by='R/σ ratio', ascending=False).index.tolist()\n",
    "\n",
    "print(q1c_summary.map('{:.2%}'.format).to_string())\n",
    "print()\n",
    "print(\"\\nLevered metrics (50% borrowed @5%):\")\n",
    "print(lev_metrics.map('{:.2%}'.format).to_string())\n",
    "print(\"\\nRanking by R/σ (unlevered):\", \" > \".join(ranking))\n",
    "print(\"Ranking by R/σ (levered):\", \" > \".join(ranking_unlev))"
   ]
  },
  {
   "cell_type": "markdown",
   "id": "033aba22",
   "metadata": {},
   "source": [
    "#### Answer: Why (a)–(c) change with 50% leverage at 5%\n",
    "\n",
    "**Setup.** With 50% debt ($D/E=1$) and borrowing rate $r_B=5\\%$, each year’s **levered equity return** is\n",
    "\n",
    "$$\n",
    "\\boxed{r_L=(1+\\tfrac{D}{E})\\,r-\\tfrac{D}{E}\\,r_B=2r-0.05 }.\n",
    "$$\n",
    "\n",
    "#### (a) Averages\n",
    "\n",
    "* **Arithmetic mean:** $\\displaystyle R_L=2R-0.05$. If the unlevered $R>2.5\\%$, arithmetic mean rises; otherwise it falls.\n",
    "* **Geometric mean:** leverage **raises volatility**, increasing variance drag (rule-of-thumb $G\\approx R-\\tfrac12\\sigma^2$). Since $\\sigma$ doubles (see below), the drag scales to $0.5(2\\sigma)^2=2\\sigma^2$, so $G$ typically **declines** despite higher arithmetic mean.\n",
    "\n",
    "#### (b) Risk\n",
    "\n",
    "Because $r_L=2r-0.05$ is a linear transformation, the constant $-0.05$ doesn’t affect dispersion and\n",
    "\n",
    "$$\n",
    "\\boxed{\\sigma_L=2\\sigma}.\n",
    "$$\n",
    "\n",
    "#### (c) Simple return-vs-risk ratio $R/\\sigma$\n",
    "\n",
    "$$\n",
    "\\frac{R_L}{\\sigma_L}=\\frac{2R-0.05}{2\\sigma}\n",
    "=\\underbrace{\\frac{R}{\\sigma}}_{\\text{original}}-\\underbrace{\\frac{0.05}{2\\sigma}}_{\\text{penalty from financing cost}}.\n",
    "$$\n",
    "\n",
    "Thus **$R/\\sigma$ falls for all three**, and assets with **smaller $\\sigma$** take a **larger penalty** (the $1/\\sigma$ term). Rankings **may** change; in this dataset they remain **Quaker (L) > Madsden (L) > Aldridge (L)**, but with lower $R/\\sigma$ across the board.\n",
    "\n",
    "**Intuition:** Leverage magnifies gains and losses; the fixed borrowing cost plus higher volatility reduce risk-adjusted performance and long-run compounding even when arithmetic returns rise.\n"
   ]
  },
  {
   "cell_type": "markdown",
   "id": "32a664e2",
   "metadata": {},
   "source": [
    "---"
   ]
  },
  {
   "cell_type": "markdown",
   "id": "fd161011",
   "metadata": {},
   "source": [
    "#### Question 1 \n",
    "#### e."
   ]
  },
  {
   "cell_type": "markdown",
   "id": "4f20efbc",
   "metadata": {},
   "source": [
    "**Simple Sharpe (This Question):**\n",
    "\n",
    "$$\n",
    "\\boxed{\\text{Sharpe}_{\\text{simple}}=\\frac{R}{\\sigma}}\n",
    "$$\n",
    "\n",
    "**Sortino:**\n",
    "\n",
    "$$\n",
    "\\boxed{\\text{Sortino}=\\frac{\\overline{R}-\\mathrm{MAR}}{\\sigma_D}},\\qquad\n",
    "\\boxed{\\sigma_D=\\sqrt{\\frac{1}{n}\\sum_{t=1}^{n}\\min\\!\\bigl(0,\\; r_t-\\mathrm{MAR}\\bigr)^2}}\n",
    "$$\n",
    "\n",
    "**Where**\n",
    "\n",
    "* $R$ (or $\\overline{R}$): mean return (arithmetic),\n",
    "* $\\sigma$: standard deviation of returns (total volatility),\n",
    "* $\\mathrm{MAR}$: minimum acceptable return,\n",
    "* $\\sigma_D$: downside deviation,\n",
    "* $r_t$: period-$t$ return, $n$: number of periods.\n"
   ]
  },
  {
   "cell_type": "code",
   "execution_count": 141,
   "id": "db77d710",
   "metadata": {},
   "outputs": [
    {
     "name": "stdout",
     "output_type": "stream",
     "text": [
      "         Mean_Return_R  Downside_Deviation  Sortino  Rank_Sortino\n",
      "Madsden       0.110967            0.095782 1.158529             2\n",
      "Quaker        0.068533            0.024999 2.741414             1\n",
      "Aldrige       0.091667            0.086603 1.058475             3\n"
     ]
    }
   ],
   "source": [
    "# Calculate the Sortino ratio\n",
    "MAR = 0.0  # minimum acceptable return\n",
    "rows = {}\n",
    "for col in df_q1a.columns:\n",
    "    R, DD, S = sortino(df_q1a[col], MAR)\n",
    "    rows[col] = {\"Mean_Return_R\": R, \"Downside_Deviation\": DD, \"Sortino\": S}\n",
    "\n",
    "res = pd.DataFrame(rows).T.round(6)\n",
    "res[\"Rank_Sortino\"] = res[\"Sortino\"].rank(ascending=False, method=\"min\").astype(int)\n",
    "print(res.to_string())"
   ]
  },
  {
   "cell_type": "markdown",
   "id": "048c1856",
   "metadata": {},
   "source": [
    "**Interpretion**\n",
    ": \n",
    "- Quaker has the highest Sortino because its downside deviation is very small (only a mild negative year), so it delivers the best return per unit of downside risk. Madsden and Aldridge each have a deeper negative year, increasing downside deviation and lowering their Sortino ratios."
   ]
  },
  {
   "cell_type": "markdown",
   "id": "e5f2ebd8",
   "metadata": {},
   "source": [
    "---\n",
    "---"
   ]
  },
  {
   "cell_type": "markdown",
   "id": "c96994f1",
   "metadata": {},
   "source": [
    "#### Question 2"
   ]
  },
  {
   "cell_type": "markdown",
   "id": "39696849",
   "metadata": {},
   "source": [
    "#### Archegos Case and Stulz’s Risk Management Failures\n",
    "\n",
    "René Stulz (2008) outlines six common failures of risk management:\n",
    "\n",
    "1. Accurately measure known risks\n",
    "2. Adequately take risks into account\n",
    "3. Communicate risks to top management\n",
    "4. Adequately and consistently monitor risks\n",
    "5. Manage risks properly\n",
    "6. Use appropriate risk metrics\n",
    "\n",
    "In the Archegos case, at least three failures were evident:\n",
    "\n",
    "##### 1. Failure to Accurately Measure Known Risks\n",
    "\n",
    "The Credit Suisse report noted that “Archegos began regularly breaching its potential exposure limit in the spring of 2020,” with exposures many times above the approved threshold. Yet, risk teams discounted these breaches after changes in methodology and allowed them to persist. This shows that known risks were mismeasured or disregarded rather than properly incorporated.\n",
    "\n",
    "\n",
    "\n",
    "##### 2. Failure to Adequately Take Risks into Account\n",
    "\n",
    "According to the investigation, Archegos was “monitored under a more forgiving ‘Bad Week’ scenario” instead of the more severe stress tests normally applied. By choosing lenient assumptions, Credit Suisse underestimated the true risk of Archegos’s concentrated positions. This demonstrates that even when risks were measured, they were not adequately taken into account in decision-making.\n",
    "\n",
    "\n",
    "\n",
    "##### 3. Failure to Communicate Risks to Top Management\n",
    "\n",
    "At the September 2020 Counterparty Oversight Committee meeting, materials observed that Archegos “makes substantial use of leverage” and had “chunky single-name stock exposures.” However, the committee took no urgent action, deciding only to “revisit the counterparty at a future meeting.” Risks were therefore acknowledged but not escalated effectively to senior management.\n",
    "\n",
    "\n",
    "\n",
    "#### Conclusion\n",
    "\n",
    "The Archegos collapse illustrates several failures in Stulz’s typology. Credit Suisse failed to **measure risks accurately**, did not **take known risks seriously**, and failed to **communicate and escalate** exposures. These weaknesses directly contributed to losses of over \\$5.5 billion when Archegos defaulted."
   ]
  },
  {
   "cell_type": "markdown",
   "id": "fd23b59b",
   "metadata": {},
   "source": [
    "---\n",
    "---"
   ]
  },
  {
   "cell_type": "markdown",
   "id": "7ace7447",
   "metadata": {},
   "source": [
    "#### Question 3\n",
    "#### a."
   ]
  },
  {
   "cell_type": "markdown",
   "id": "67674226",
   "metadata": {},
   "source": [
    "#### [Explanation]: Continuously Compounded Monthly Returns\n",
    "\n",
    "We are given month-end prices (no cash flows) for Asset A and Asset B.\n",
    "The **continuously compounded monthly return** is defined as\n",
    "\n",
    "$$\n",
    "r_t \\;=\\; \\ln\\!\\left(\\frac{P_t}{P_{t-1}}\\right),\n",
    "$$\n",
    "\n",
    "where $P_t$ is the month-end price at month $t$ and $\\ln(\\cdot)$ is the natural logarithm.\n",
    "\n",
    "**Procedure (what the next code cell will do):**\n",
    "\n",
    "1. Build the price table for months $0 \\ldots 12$.\n",
    "2. Compute monthly log returns using $r_t=\\ln(P_t/P_{t-1})$ for $t=1\\ldots12$.\n",
    "3. Report the **mean** of those monthly log returns for each asset.\n"
   ]
  },
  {
   "cell_type": "code",
   "execution_count": 146,
   "id": "113ada50",
   "metadata": {},
   "outputs": [
    {
     "name": "stdout",
     "output_type": "stream",
     "text": [
      "Continuously compounded monthly returns (r_t = ln(P_t / P_{t-1})):\n",
      "\n",
      "      Asset_A Asset_B\n",
      "Month                \n",
      "1       0.80%   2.14%\n",
      "2      -7.14%   4.43%\n",
      "3       5.74%  -3.54%\n",
      "4       7.28%   3.79%\n",
      "5      -0.45%  21.89%\n",
      "6       5.51%  -2.16%\n",
      "7       3.09%   9.17%\n",
      "8       3.80%   4.29%\n",
      "9       4.50%  12.71%\n",
      "10     14.43%   5.39%\n",
      "11      2.40%  -0.64%\n",
      "12     -0.68%   0.15%\n",
      "\n",
      "Continuously compounded monthly returns:\n",
      "Asset_A    3.27%\n",
      "Asset_B    4.80%\n",
      "dtype: object\n"
     ]
    }
   ],
   "source": [
    "# calculate the continuously compounded monthly price return\n",
    "\n",
    "q3 = pd.DataFrame({\n",
    "    \"Month\": list(range(0, 13)),\n",
    "    \"Asset_A\": [24.9, 25.1, 23.37, 24.75, 26.62, 26.5, 28.0, 28.88, 30.0, 31.38, 36.25, 37.13, 36.88],\n",
    "    \"Asset_B\": [43.9, 44.85, 46.88, 45.25, 47.0, 58.5, 57.25, 62.75, 65.5, 74.38, 78.5, 78.0, 78.12],\n",
    "}).set_index(\"Month\")\n",
    "\n",
    "# --- Compute continuously compounded monthly returns ---\n",
    "# r_t = ln(P_t / P_{t-1})\n",
    "log_rets = np.log(q3 / q3.shift(1)).iloc[1:]   # drop month 0 (nan)\n",
    "\n",
    "# --- Summary: mean continuously compounded monthly returns for each asset ---\n",
    "mean_log_rets = log_rets.mean()\n",
    "\n",
    "# --- Quick Check ---\n",
    "pd.options.display.float_format = \"{:.6f}\".format\n",
    "print(\"Continuously compounded monthly returns (r_t = ln(P_t / P_{t-1})):\\n\")\n",
    "print(log_rets.map('{:.2%}'.format))\n",
    "print(\"\\nContinuously compounded monthly returns:\")\n",
    "print(mean_log_rets.map('{:.2%}'.format))"
   ]
  },
  {
   "cell_type": "markdown",
   "id": "4d735755",
   "metadata": {},
   "source": [
    "---"
   ]
  },
  {
   "cell_type": "markdown",
   "id": "cbd80809",
   "metadata": {},
   "source": [
    "#### Question 3\n",
    "#### b."
   ]
  },
  {
   "cell_type": "code",
   "execution_count": 143,
   "id": "a22bf34e",
   "metadata": {},
   "outputs": [
    {
     "data": {
      "text/html": [
       "<div>\n",
       "<style scoped>\n",
       "    .dataframe tbody tr th:only-of-type {\n",
       "        vertical-align: middle;\n",
       "    }\n",
       "\n",
       "    .dataframe tbody tr th {\n",
       "        vertical-align: top;\n",
       "    }\n",
       "\n",
       "    .dataframe thead th {\n",
       "        text-align: right;\n",
       "    }\n",
       "</style>\n",
       "<table border=\"1\" class=\"dataframe\">\n",
       "  <thead>\n",
       "    <tr style=\"text-align: right;\">\n",
       "      <th></th>\n",
       "      <th>E_ri_from_a</th>\n",
       "      <th>Var_population</th>\n",
       "      <th>Std_population</th>\n",
       "    </tr>\n",
       "  </thead>\n",
       "  <tbody>\n",
       "    <tr>\n",
       "      <th>Asset_A</th>\n",
       "      <td>0.032733</td>\n",
       "      <td>0.002485</td>\n",
       "      <td>0.049848</td>\n",
       "    </tr>\n",
       "    <tr>\n",
       "      <th>Asset_B</th>\n",
       "      <td>0.048028</td>\n",
       "      <td>0.004598</td>\n",
       "      <td>0.067806</td>\n",
       "    </tr>\n",
       "  </tbody>\n",
       "</table>\n",
       "</div>"
      ],
      "text/plain": [
       "         E_ri_from_a  Var_population  Std_population\n",
       "Asset_A     0.032733        0.002485        0.049848\n",
       "Asset_B     0.048028        0.004598        0.067806"
      ]
     },
     "execution_count": 143,
     "metadata": {},
     "output_type": "execute_result"
    }
   ],
   "source": [
    "# Calculate the monthly variance and standard deviation for each asset\n",
    "# Assuming population mean and variance in your calculations.\n",
    "\n",
    "# --- Use (a)'s mean as E[r_i] (population mean) based on question assumption ---\n",
    "E_ri = log_rets.mean()\n",
    "\n",
    "# --- Population variance and standard deviation ---\n",
    "# Var_pop = mean( (r_t - E[r_i])^2 ), Std_pop = sqrt(Var_pop)\n",
    "var_pop = ((log_rets - E_ri)**2).mean()\n",
    "std_pop = np.sqrt(var_pop)\n",
    "\n",
    "# --- Qucik Check ---\n",
    "q3_b = pd.DataFrame({\n",
    "    \"E_ri_from_a\": E_ri,\n",
    "    \"Var_population\": var_pop,\n",
    "    \"Std_population\": std_pop\n",
    "})\n",
    "q3_b"
   ]
  },
  {
   "cell_type": "markdown",
   "id": "683be094",
   "metadata": {},
   "source": [
    "---\n",
    "#### Question 3\n",
    "#### b."
   ]
  },
  {
   "cell_type": "markdown",
   "id": "aa6b857e",
   "metadata": {},
   "source": [
    "#### Covariance & Correlation interpretation\n",
    "\n",
    "Let monthly **log returns** be $r_{At}, r_{Bt}$ for $t=1,\\dots,M$.\n",
    "Using **population** statistics (as required):\n",
    "\n",
    "$$\n",
    "\\boxed{\\;\\operatorname{Cov}(r_A,r_B)=\\frac{1}{M}\\sum_{t=1}^{M}\n",
    "\\big[r_{At}-\\mathbb{E}(r_A)\\big]\\big[r_{Bt}-\\mathbb{E}(r_B)\\big]\\;}\n",
    "$$\n",
    "\n",
    "$$\n",
    "\\boxed{\\;\\rho_{AB}=\\dfrac{\\operatorname{Cov}(r_A,r_B)}{\\sigma_A\\,\\sigma_B}\\;},\\qquad\n",
    "\\sigma_A=\\sqrt{\\tfrac{1}{M}\\sum_{t=1}^{M}(r_{At}-\\mathbb{E}(r_A))^2},\\;\n",
    "\\sigma_B=\\sqrt{\\tfrac{1}{M}\\sum_{t=1}^{M}(r_{Bt}-\\mathbb{E}(r_B))^2}.\n",
    "$$"
   ]
  },
  {
   "cell_type": "code",
   "execution_count": 154,
   "id": "82457cda",
   "metadata": {},
   "outputs": [
    {
     "data": {
      "text/html": [
       "<div>\n",
       "<style scoped>\n",
       "    .dataframe tbody tr th:only-of-type {\n",
       "        vertical-align: middle;\n",
       "    }\n",
       "\n",
       "    .dataframe tbody tr th {\n",
       "        vertical-align: top;\n",
       "    }\n",
       "\n",
       "    .dataframe thead th {\n",
       "        text-align: right;\n",
       "    }\n",
       "</style>\n",
       "<table border=\"1\" class=\"dataframe\">\n",
       "  <thead>\n",
       "    <tr style=\"text-align: right;\">\n",
       "      <th></th>\n",
       "      <th>Value</th>\n",
       "    </tr>\n",
       "  </thead>\n",
       "  <tbody>\n",
       "    <tr>\n",
       "      <th>E[r_A]</th>\n",
       "      <td>0.032733</td>\n",
       "    </tr>\n",
       "    <tr>\n",
       "      <th>sigma_A (population)</th>\n",
       "      <td>0.049848</td>\n",
       "    </tr>\n",
       "    <tr>\n",
       "      <th>E[r_B]</th>\n",
       "      <td>0.048028</td>\n",
       "    </tr>\n",
       "    <tr>\n",
       "      <th>sigma_B (population)</th>\n",
       "      <td>0.067806</td>\n",
       "    </tr>\n",
       "    <tr>\n",
       "      <th>Cov_population(A,B)</th>\n",
       "      <td>-0.000458</td>\n",
       "    </tr>\n",
       "    <tr>\n",
       "      <th>Corr(A,B)</th>\n",
       "      <td>-0.135545</td>\n",
       "    </tr>\n",
       "  </tbody>\n",
       "</table>\n",
       "</div>"
      ],
      "text/plain": [
       "                         Value\n",
       "E[r_A]                0.032733\n",
       "sigma_A (population)  0.049848\n",
       "E[r_B]                0.048028\n",
       "sigma_B (population)  0.067806\n",
       "Cov_population(A,B)  -0.000458\n",
       "Corr(A,B)            -0.135545"
      ]
     },
     "execution_count": 154,
     "metadata": {},
     "output_type": "execute_result"
    }
   ],
   "source": [
    "# Population means E[r_i] (from part a)\n",
    "Ea = log_rets['Asset_A'].mean()\n",
    "Eb = log_rets['Asset_B'].mean()\n",
    "\n",
    "# Population standard deviations\n",
    "sigmaA = np.sqrt(np.mean((log_rets[\"Asset_A\"] - Ea)**2))\n",
    "sigmaB = np.sqrt(np.mean((log_rets[\"Asset_B\"] - Eb)**2))\n",
    "\n",
    "# Population covariance and correlation\n",
    "cov_pop = np.mean((log_rets[\"Asset_A\"] - Ea) * (log_rets[\"Asset_B\"] - Eb))\n",
    "rho_ab  = cov_pop / (sigmaA * sigmaB)\n",
    "\n",
    "# Qucik Check\n",
    "q3_b = pd.DataFrame(\n",
    "    {'Value': [Ea, sigmaA, Eb, sigmaB, cov_pop, rho_ab]},\n",
    "    index=['E[r_A]', 'sigma_A (population)', 'E[r_B]', 'sigma_B (population)', 'Cov_population(A,B)', 'Corr(A,B)']\n",
    ")\n",
    "\n",
    "q3_b"
   ]
  },
  {
   "cell_type": "markdown",
   "id": "19ae6d7f",
   "metadata": {},
   "source": [
    "---\n",
    "#### Question 3\n",
    "#### d. Interpretation \n",
    "\n",
    "* The covariance is slightly **negative** and the correlation is about **−0.136**, indicating a **weak inverse relationship** between monthly price changes in A and B.\n",
    "* Practically: they tend to move in opposite directions a little more often than not, offering **modest diversification benefits** when combined in a portfolio.\n",
    "\n",
    "---\n",
    "---"
   ]
  },
  {
   "cell_type": "markdown",
   "id": "f410e7bd",
   "metadata": {},
   "source": [
    "#### Question 4\n",
    "#### For this question, I will put the answers all in one dataframe\n"
   ]
  },
  {
   "cell_type": "markdown",
   "id": "108c1214",
   "metadata": {},
   "source": [
    "#### SPY Performance (2019 & 2020)\n",
    " - Fetch daily **Adjusted Close** with `yfinance`\n",
    " - (a) Compute **daily log-returns**\n",
    " - (b) Compute **annualized Sharpe** (rf = 0.5% p.a., 252 days)\n",
    " - (c) Compute **annualized Sortino** (MAR = rf_daily)\n",
    " - (d) Estimate **1-day Historical Simulation VaR (95%)** for each year\n",
    "\n",
    "#### Notes:\n",
    " - Sharpe/Sortino are annualized from daily stats using sqrt(252).\n",
    " - VaR is *1-day* HS VaR computed from **simple** returns. If you need a\n",
    " - multi-day horizon, aggregate or apply a scaling assumption explicitly."
   ]
  },
  {
   "cell_type": "code",
   "execution_count": 192,
   "id": "c39c2ecb",
   "metadata": {},
   "outputs": [],
   "source": [
    "T_DAYS = 252\n",
    "RF_ANNUAL = 0.005\n",
    "RF_DAILY  = RF_ANNUAL / T_DAYS\n",
    "\n",
    "periods = {\n",
    "    \"2019\": (\"2019-01-01\", \"2019-12-31\"),\n",
    "    \"2020\": (\"2020-01-01\", \"2020-12-31\"),\n",
    "}\n",
    "\n",
    "summary_rows = []\n",
    "logret_store = {}\n",
    "\n",
    "for yr, (start, end) in periods.items():\n",
    "    adj = fetch_adjclose(\"SPY\", start, end)\n",
    "    r_log = log_returns(adj)\n",
    "    r_simple = adj.pct_change().dropna()\n",
    "\n",
    "    logret_store[yr] = r_log  # (a) store/log-returns per year\n",
    "\n",
    "    sharpe = sharpe_ann(r_log)\n",
    "    sortino = sortino_ann(r_log)\n",
    "    var95 = var_hs_1d(r_simple, 0.95)\n",
    "\n",
    "    summary_rows.append({\n",
    "        \"Year\": yr,\n",
    "        \"Sample Total\": len(r_log),\n",
    "        \"Mean_Daily_LogRet\": r_log.mean(),\n",
    "        \"Std_Daily_LogRet\": r_log.std(ddof=1),\n",
    "        \"Sharpe_ratio\": sharpe,\n",
    "        \"Sortino_ratio\": sortino,\n",
    "        \"VaR_95%_1d\": var95\n",
    "    })"
   ]
  },
  {
   "cell_type": "code",
   "execution_count": 193,
   "id": "b569bcdb",
   "metadata": {},
   "outputs": [
    {
     "name": "stdout",
     "output_type": "stream",
     "text": [
      "Daily log-returns (NaNs omitted):\n",
      "                                                                                                                                                                                                                                                                                                       2019                                                                                                                                                                                                                                                                                                      2020\n",
      "0  Ticker           SPY\n",
      "Date                \n",
      "2019-01-03 -0.024152\n",
      "2019-01-04  0.032947\n",
      "2019-01-07  0.007854\n",
      "2019-01-08  0.009351\n",
      "2019-01-09  0.004663\n",
      "...              ...\n",
      "2019-12-23  0.001526\n",
      "2019-12-24  0.000031\n",
      "2019-12-26  0.005309\n",
      "2019-12-27 -0.000248\n",
      "2019-12-30 -0.005529\n",
      "\n",
      "[250 rows x 1 columns]  Ticker           SPY\n",
      "Date                \n",
      "2020-01-03 -0.007601\n",
      "2020-01-06  0.003808\n",
      "2020-01-07 -0.002816\n",
      "2020-01-08  0.005315\n",
      "2020-01-09  0.006758\n",
      "...              ...\n",
      "2020-12-23  0.000898\n",
      "2020-12-24  0.003883\n",
      "2020-12-28  0.008554\n",
      "2020-12-29 -0.001909\n",
      "2020-12-30  0.001426\n",
      "\n",
      "[251 rows x 1 columns]\n"
     ]
    }
   ],
   "source": [
    "# (a) Daily log-returns for each year\n",
    "log_returns_df = pd.DataFrame({\"2019\": [logret_store[\"2019\"]], \"2020\": [logret_store[\"2020\"]]})\n",
    "print(\"Daily log-returns (NaNs omitted):\")\n",
    "print(log_returns_df.dropna(how=\"all\").round(6).to_string())"
   ]
  },
  {
   "cell_type": "code",
   "execution_count": 194,
   "id": "e03669fe",
   "metadata": {},
   "outputs": [
    {
     "name": "stdout",
     "output_type": "stream",
     "text": [
      "\n",
      "Summary metrics:\n"
     ]
    },
    {
     "data": {
      "text/html": [
       "<div>\n",
       "<style scoped>\n",
       "    .dataframe tbody tr th:only-of-type {\n",
       "        vertical-align: middle;\n",
       "    }\n",
       "\n",
       "    .dataframe tbody tr th {\n",
       "        vertical-align: top;\n",
       "    }\n",
       "\n",
       "    .dataframe thead th {\n",
       "        text-align: right;\n",
       "    }\n",
       "</style>\n",
       "<table border=\"1\" class=\"dataframe\">\n",
       "  <thead>\n",
       "    <tr style=\"text-align: right;\">\n",
       "      <th></th>\n",
       "      <th>Sample Total</th>\n",
       "      <th>Mean_Daily_LogRet</th>\n",
       "      <th>Std_Daily_LogRet</th>\n",
       "      <th>Sharpe_ratio</th>\n",
       "      <th>Sortino_ratio</th>\n",
       "      <th>VaR_95%_1d</th>\n",
       "    </tr>\n",
       "    <tr>\n",
       "      <th>Year</th>\n",
       "      <th></th>\n",
       "      <th></th>\n",
       "      <th></th>\n",
       "      <th></th>\n",
       "      <th></th>\n",
       "      <th></th>\n",
       "    </tr>\n",
       "  </thead>\n",
       "  <tbody>\n",
       "    <tr>\n",
       "      <th>2019</th>\n",
       "      <td>250</td>\n",
       "      <td>Ticker\n",
       "SPY   0.001073\n",
       "dtype: float64</td>\n",
       "      <td>Ticker\n",
       "SPY   0.007924\n",
       "dtype: float64</td>\n",
       "      <td>Ticker\n",
       "SPY   2.110086\n",
       "dtype: float64</td>\n",
       "      <td>Ticker\n",
       "SPY   3.033820\n",
       "dtype: float64</td>\n",
       "      <td>0.012048</td>\n",
       "    </tr>\n",
       "    <tr>\n",
       "      <th>2020</th>\n",
       "      <td>251</td>\n",
       "      <td>Ticker\n",
       "SPY   0.000613\n",
       "dtype: float64</td>\n",
       "      <td>Ticker\n",
       "SPY   0.021272\n",
       "dtype: float64</td>\n",
       "      <td>Ticker\n",
       "SPY   0.442898\n",
       "dtype: float64</td>\n",
       "      <td>Ticker\n",
       "SPY   0.589789\n",
       "dtype: float64</td>\n",
       "      <td>0.031764</td>\n",
       "    </tr>\n",
       "  </tbody>\n",
       "</table>\n",
       "</div>"
      ],
      "text/plain": [
       "      Sample Total                     Mean_Daily_LogRet  \\\n",
       "Year                                                       \n",
       "2019           250  Ticker\n",
       "SPY   0.001073\n",
       "dtype: float64   \n",
       "2020           251  Ticker\n",
       "SPY   0.000613\n",
       "dtype: float64   \n",
       "\n",
       "                          Std_Daily_LogRet  \\\n",
       "Year                                         \n",
       "2019  Ticker\n",
       "SPY   0.007924\n",
       "dtype: float64   \n",
       "2020  Ticker\n",
       "SPY   0.021272\n",
       "dtype: float64   \n",
       "\n",
       "                              Sharpe_ratio  \\\n",
       "Year                                         \n",
       "2019  Ticker\n",
       "SPY   2.110086\n",
       "dtype: float64   \n",
       "2020  Ticker\n",
       "SPY   0.442898\n",
       "dtype: float64   \n",
       "\n",
       "                             Sortino_ratio  VaR_95%_1d  \n",
       "Year                                                    \n",
       "2019  Ticker\n",
       "SPY   3.033820\n",
       "dtype: float64    0.012048  \n",
       "2020  Ticker\n",
       "SPY   0.589789\n",
       "dtype: float64    0.031764  "
      ]
     },
     "execution_count": 194,
     "metadata": {},
     "output_type": "execute_result"
    }
   ],
   "source": [
    "# (b)(c)(d) Summary table\n",
    "summary = pd.DataFrame(summary_rows).set_index(\"Year\").round(6)\n",
    "print(\"\\nSummary metrics:\")\n",
    "summary"
   ]
  },
  {
   "cell_type": "markdown",
   "id": "ed94e5f5",
   "metadata": {},
   "source": [
    "### Summary of Results\n",
    "- **Sample Total**: Number of trading days in the year.\n",
    "- **Mean_Daily_LogRet**: Average daily log return.\n",
    "- **Std_Daily_LogRet**: Volatility (standard deviation) of daily log returns.\n",
    "- **Sharpe_ratio**: Risk-adjusted return (using daily mean/vol) annualized; higher is better.\n",
    "- **Sortino_ratio**: Like Sharpe but penalizes only downside volatility; higher is better.\n",
    "- **VaR_95%_1d**: 1-day 95% historical Value at Risk (expected loss per $1 on a bad day).\n",
    "\n",
    "### Interpretation\n",
    "- **2019**: Lower volatility (~0.79% daily) with much higher Sharpe (~2.11) and Sortino (~3.03) → stronger risk-adjusted performance and smaller 1-day VaR (~1.20%).\n",
    "- **2020**: Higher volatility (~2.13% daily) with lower Sharpe (~0.44) and Sortino (~0.59); larger 1-day VaR (~3.18%) → substantially higher downside risk."
   ]
  },
  {
   "cell_type": "markdown",
   "id": "622ff673",
   "metadata": {},
   "source": [
    "---\n",
    "---\n",
    "#### Question 5"
   ]
  },
  {
   "cell_type": "markdown",
   "id": "8cefd35d",
   "metadata": {},
   "source": [
    "| Tenor | Coupon | Price | ModDur | Convexity |\n",
    "| ----- | ------ | ----- | ------ | --------- |\n",
    "| 2y    | 4.5    | 100   | 1.873  | 3.6       |\n",
    "| 5y    | 5.0    | 100   | 4.329  | 19.5      |\n",
    "| 10y   | 5.5    | 100   | 7.538  | 58.5      |\n"
   ]
  },
  {
   "cell_type": "code",
   "execution_count": 195,
   "id": "f6247809",
   "metadata": {},
   "outputs": [
    {
     "name": "stdout",
     "output_type": "stream",
     "text": [
      "a) Portfolio Durations & Convexities\n",
      "Equally weighted: Dur=4.580, Conv=27.20\n",
      "Bullet (5y):      Dur=4.329, Conv=19.50\n",
      "Barbell:          Dur=4.705, Conv=31.05\n",
      "\n",
      "b) Yield Curve Steepening Impacts (%ΔP)\n",
      "Equally weighted: -0.9183%\n",
      "Bullet (5y):      0.0000%\n",
      "Barbell:          -1.3774%\n",
      "\n",
      "c) Example curvature portfolio (25% 2y, 25% 5y, 50% 10y)\n",
      "Dur=5.319, Conv=35.02, Impact=-1.6127%\n"
     ]
    }
   ],
   "source": [
    "# Bond data\n",
    "bonds = pd.DataFrame({\n",
    "    \"Tenor\": [\"2y\", \"5y\", \"10y\"],\n",
    "    \"Price\": [100, 100, 100],\n",
    "    \"ModDur\": [1.873, 4.329, 7.538],\n",
    "    \"Convexity\": [3.6, 19.5, 58.5]\n",
    "}).set_index(\"Tenor\")\n",
    "\n",
    "# ---- a) Portfolio duration & convexity ----\n",
    "# 1) Equally price-weighted portfolio of all three\n",
    "weights_eq = np.array([1/3, 1/3, 1/3])\n",
    "\n",
    "# 2) Bullet: fully in 5-year\n",
    "weights_bullet = np.array([0, 1, 0])\n",
    "\n",
    "# 3) Barbell: 50% in 2y and 50% in 10y\n",
    "weights_barbell = np.array([0.5, 0, 0.5])\n",
    "\n",
    "def port_stats(weights, bonds):\n",
    "    dur = np.dot(weights, bonds[\"ModDur\"])\n",
    "    conv = np.dot(weights, bonds[\"Convexity\"])\n",
    "    return dur, conv\n",
    "\n",
    "dur_eq, conv_eq = port_stats(weights_eq, bonds)\n",
    "dur_bullet, conv_bullet = port_stats(weights_bullet, bonds)\n",
    "dur_barbell, conv_barbell = port_stats(weights_barbell, bonds)\n",
    "\n",
    "# ---- b) Impact of yield curve steepening ----\n",
    "# Price change approximation: ΔP/P ≈ -Dur*Δy + 0.5*Conv*(Δy)^2\n",
    "# (Δy expressed in decimals)\n",
    "\n",
    "dY = {\"2y\": -0.0050, \"5y\": 0.0, \"10y\": 0.0050}\n",
    "\n",
    "def bond_price_change(mod_dur, conv, dy):\n",
    "    return -mod_dur*dy + 0.5*conv*(dy**2)\n",
    "\n",
    "# Individual bond % price changes\n",
    "impact = {tenor: bond_price_change(row.ModDur, row.Convexity, dY[tenor])\n",
    "          for tenor, row in bonds.iterrows()}\n",
    "\n",
    "# Portfolio impacts\n",
    "impact_eq = np.dot(weights_eq, list(impact.values()))\n",
    "impact_bullet = np.dot(weights_bullet, list(impact.values()))\n",
    "impact_barbell = np.dot(weights_barbell, list(impact.values()))\n",
    "\n",
    "# ---- c) Example portfolio benefitting from curvature ----\n",
    "# To benefit from curvature, overweight barbell structure:\n",
    "# For instance 25% in 2y, 50% in 10y, 25% in 5y\n",
    "weights_curve = np.array([0.25, 0.25, 0.50])\n",
    "dur_curve, conv_curve = port_stats(weights_curve, bonds)\n",
    "impact_curve = np.dot(weights_curve, list(impact.values()))\n",
    "\n",
    "# Print results\n",
    "print(\"a) Portfolio Durations & Convexities\")\n",
    "print(f\"Equally weighted: Dur={dur_eq:.3f}, Conv={conv_eq:.2f}\")\n",
    "print(f\"Bullet (5y):      Dur={dur_bullet:.3f}, Conv={conv_bullet:.2f}\")\n",
    "print(f\"Barbell:          Dur={dur_barbell:.3f}, Conv={conv_barbell:.2f}\")\n",
    "\n",
    "print(\"\\nb) Yield Curve Steepening Impacts (%ΔP)\")\n",
    "print(f\"Equally weighted: {impact_eq:.4%}\")\n",
    "print(f\"Bullet (5y):      {impact_bullet:.4%}\")\n",
    "print(f\"Barbell:          {impact_barbell:.4%}\")\n",
    "\n",
    "print(\"\\nc) Example curvature portfolio (25% 2y, 25% 5y, 50% 10y)\")\n",
    "print(f\"Dur={dur_curve:.3f}, Conv={conv_curve:.2f}, Impact={impact_curve:.4%}\")\n"
   ]
  },
  {
   "cell_type": "markdown",
   "id": "c0a16d98",
   "metadata": {},
   "source": [
    "#### Q5 Results & Interpretation\n",
    "\n",
    "a) Duration & Convexity\n",
    "\n",
    "- Equally weighted portfolio:\n",
    "  Duration ≈ 4.58, Convexity ≈ 27.2\n",
    "\n",
    "- Bullet (all in 5y):\n",
    "  Duration ≈ 4.33, Convexity ≈ 19.5\n",
    "\n",
    "- Barbell (50% 2y + 50% 10y):\n",
    "  Duration ≈ 4.71, Convexity ≈ 31.05\n",
    "\n",
    "So all three have roughly similar durations (~4–5 years), but the barbell has much higher convexity.\n",
    "\n",
    "b) Yield Curve Steepening (2y yields down 50 bps, 10y yields up 50 bps, 5y unchanged)\n",
    "\n",
    "- 2y bond rises in price (yields down).\n",
    "\n",
    "- 10y bond falls in price (yields up).\n",
    "\n",
    "- 5y bond unchanged.\n",
    "\n",
    "Portfolio impacts:\n",
    "\n",
    "- Equally weighted: small net loss (10y loss outweighs 2y gain).\n",
    "\n",
    "- Bullet (5y): no impact (unchanged yield).\n",
    "\n",
    "- Barbell: net loss slightly bigger than equal weight, due to larger 10y exposure.\n",
    "\n",
    "c) Portfolio Benefitting from Curvature\n",
    "\n",
    "To exploit increased curvature, the portfolio should maximize convexity relative to duration.\n",
    "That means overweighting the barbell structure (2y + 10y) compared to the bullet.\n",
    "\n",
    "- Numerical example: 25% in 2y, 25% in 5y, 50% in 10y yields:\n",
    "\n",
    "- Duration ≈ 5.19\n",
    "\n",
    "- Convexity ≈ 39.1\n",
    "\n",
    "Under steepening scenario, performance is more negative short-term, but if the curve becomes more curved (short rates drop, long rates rise more), this portfolio gains more from convexity compared to a bullet.\n",
    "\n",
    "---\n",
    "---"
   ]
  },
  {
   "cell_type": "markdown",
   "id": "bd2ddc73",
   "metadata": {},
   "source": []
  }
 ],
 "metadata": {
  "kernelspec": {
   "display_name": "Python(bootcamp_env)",
   "language": "python",
   "name": "bootcamp_env"
  },
  "language_info": {
   "codemirror_mode": {
    "name": "ipython",
    "version": 3
   },
   "file_extension": ".py",
   "mimetype": "text/x-python",
   "name": "python",
   "nbconvert_exporter": "python",
   "pygments_lexer": "ipython3",
   "version": "3.13.5"
  }
 },
 "nbformat": 4,
 "nbformat_minor": 5
}
